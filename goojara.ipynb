{
 "cells": [
  {
   "cell_type": "code",
   "execution_count": 12,
   "id": "bc0812c0",
   "metadata": {},
   "outputs": [],
   "source": [
    "import requests\n",
    "from bs4 import BeautifulSoup"
   ]
  },
  {
   "cell_type": "code",
   "execution_count": 13,
   "id": "eb0b05ab",
   "metadata": {},
   "outputs": [],
   "source": [
    "page = 1\n",
    "main_url = \"https://www.goojara.to\"\n",
    "movies_url = f\"{main_url}/watch-movies?p={page}\"\n",
    "req = requests.get(movies_url)"
   ]
  },
  {
   "cell_type": "code",
   "execution_count": 14,
   "id": "f68ce523",
   "metadata": {},
   "outputs": [],
   "source": [
    "soup = BeautifulSoup(req.text, \"html.parser\")"
   ]
  },
  {
   "cell_type": "markdown",
   "id": "b385238c",
   "metadata": {},
   "source": [
    "# Homepage"
   ]
  },
  {
   "cell_type": "code",
   "execution_count": null,
   "id": "f2a2d9de",
   "metadata": {},
   "outputs": [],
   "source": [
    "moviesList = []\n",
    "\n",
    "movies = soup.findAll(\"div\",class_=\"dflex\")\n",
    "\n",
    "\n",
    "for movie in movies:\n",
    "    details = movie.findAll(\"a\")\n",
    "    for detail in details:\n",
    "        movie = detail.find('img')\n",
    "        movie_name = detail['title']\n",
    "        movie_link = detail['href']\n",
    "        movie_image = movie['data-src']\n",
    "        moviesList.append([movie_name, movie_link, movie_image])\n",
    "        \n",
    "for i in range(0, len(moviesList)):\n",
    "    print(moviesList[i])\n",
    "    "
   ]
  },
  {
   "cell_type": "code",
   "execution_count": 16,
   "id": "262079dc",
   "metadata": {},
   "outputs": [],
   "source": [
    "req = requests.get(\"https://i.goojara.to/mb_229_229385.jpg\")\n",
    "\n",
    "with open(\"images/image7.jpg\", \"wb\") as f:\n",
    "    f.write(req.content)\n",
    "\n",
    "    "
   ]
  },
  {
   "cell_type": "code",
   "execution_count": 17,
   "id": "0d6ee4eb",
   "metadata": {},
   "outputs": [
    {
     "name": "stdout",
     "output_type": "stream",
     "text": [
      "<Response [200]>\n"
     ]
    }
   ],
   "source": [
    "movie_details_page = f\"{main_url}/mVwgxP\"\n",
    "movie_details_req = requests.get(movie_details_page)\n",
    "\n",
    "detailsSoup = BeautifulSoup(movie_details_req.text,\"html.parser\")\n",
    "\n",
    "print(movie_details_req)"
   ]
  },
  {
   "cell_type": "markdown",
   "id": "f80bc8ca",
   "metadata": {},
   "source": [
    "# Details page"
   ]
  },
  {
   "cell_type": "code",
   "execution_count": 18,
   "id": "7340949a",
   "metadata": {},
   "outputs": [
    {
     "name": "stdout",
     "output_type": "stream",
     "text": [
      "Angourie Rice, Reneé Rapp, Auli'i Cravalho, Jaquel Spivey, Avantika, Bebe Wood, Christopher Briney, Jenna Fischer, Busy Philipps, Tina Fey, Tim Meadows, Lindsay Lohan, Jon Hamm, Ashley Park, Connor Ratliff, Mahi Alam, John El-Jor, Brian Altemus\n"
     ]
    }
   ],
   "source": [
    "movieDetails = []\n",
    "\n",
    "movie_details_ = detailsSoup.find(\"div\",class_='fimm').findAll('p')\n",
    "description = movie_details_[0].text\n",
    "movie_director = movie_details_[1].text\n",
    "cast = movie_details_[2].text\n",
    "\n",
    "movieDetails.append([description,movie_director,cast])\n",
    "\n",
    "print(movieDetails[0][2][6:])"
   ]
  },
  {
   "cell_type": "code",
   "execution_count": 19,
   "id": "0d5fecde",
   "metadata": {},
   "outputs": [
    {
     "name": "stdout",
     "output_type": "stream",
     "text": [
      "Angourie Rice, Reneé Rapp, Auli'i Cravalho, Jaquel Spivey, Avantika, Bebe Wood, Christopher Briney, Jenna Fischer, Busy Philipps, Tina Fey, Tim Meadows, Lindsay Lohan, Jon Hamm, Ashley Park, Connor Ratliff, Mahi Alam, John El-Jor, Brian Altemus\n"
     ]
    }
   ],
   "source": [
    "movie_director = \"Director: Samantha Jayne\"\n",
    "cast = \"Cast: Angourie Rice, Reneé Rapp, Auli'i Cravalho, Jaquel Spivey, Avantika, Bebe Wood, Christopher Briney, Jenna Fischer, Busy Philipps, Tina Fey, Tim Meadows, Lindsay Lohan, Jon Hamm, Ashley Park, Connor Ratliff, Mahi Alam, John El-Jor, Brian Altemus\"\n",
    "movie_director[10:]\n",
    "print(cast[6:])"
   ]
  },
  {
   "cell_type": "markdown",
   "id": "a788beea",
   "metadata": {},
   "source": [
    "# Popular Movies"
   ]
  },
  {
   "cell_type": "code",
   "execution_count": 22,
   "id": "96e42654",
   "metadata": {},
   "outputs": [
    {
     "name": "stdout",
     "output_type": "stream",
     "text": [
      "['Mean Girls (2024)', '/mVwgxP', '//i.goojara.to/mb_229_229422.jpg']\n",
      "['Land of Bad (2024)', '/mXnGmN', '//i.goojara.to/mb_229_229419.jpg']\n",
      "['The Iron Claw (2024)', '/mnkG6k', '//i.goojara.to/mb_229_229418.jpg']\n",
      "['American Fiction (2024)', '/myPJa9', '//i.goojara.to/mb_229_229405.jpg']\n",
      "['The Beekeeper (2024)', '/m2aqj4', '//i.goojara.to/mb_229_229395.jpg']\n",
      "['Aquaman and the Lost Kingdom (2023)', '/mGQnjg', '//i.goojara.to/mb_229_229385.jpg']\n",
      "['Migration (2023)', '/meQGO0', '//i.goojara.to/mb_229_229383.jpg']\n",
      "['Land of Bad (2024)', 'https://ww1.goojara.to/mXnGmN', '//i.goojara.to/mb_229_229419.jpg']\n",
      "['Poor Things (2024)', 'https://ww1.goojara.to/m4WB7v', '//i.goojara.to/mb_229_229436.jpg']\n",
      "['Lisa Frankenstein (2024)', 'https://ww1.goojara.to/mRzBxx', '//i.goojara.to/mb_229_229438.jpg']\n",
      "['The Shift (2023)', 'https://ww1.goojara.to/mEQMX0', '//i.goojara.to/mb_229_229437.jpg']\n",
      "['The Beekeeper (2024)', 'https://ww1.goojara.to/m2aqj4', '//i.goojara.to/mb_229_229395.jpg']\n",
      "['Mean Girls (2024)', 'https://ww1.goojara.to/mVwgxP', '//i.goojara.to/mb_229_229422.jpg']\n",
      "['The Iron Claw (2024)', 'https://ww1.goojara.to/mnkG6k', '//i.goojara.to/mb_229_229418.jpg']\n",
      "['Dune (2021)', 'https://ww1.goojara.to/m76EOL', '//i.goojara.to/mb_227_227346.jpg']\n",
      "['Tell No Lies (2024)', 'https://ww1.goojara.to/mAeODB', '//i.goojara.to/mb_229_229430.jpg']\n",
      "['Emily (2023)', 'https://ww1.goojara.to/mGQnWm', '//i.goojara.to/mb_229_229441.jpg']\n",
      "['Played and Betrayed (2024)', 'https://ww1.goojara.to/mmwGqJ', '//i.goojara.to/mb_229_229432.jpg']\n",
      "['Aquaman and the Lost Kingdom (2023)', 'https://ww1.goojara.to/mGQnjg', '//i.goojara.to/mb_229_229385.jpg']\n",
      "[\"My Husband's Baby (2024)\", 'https://ww1.goojara.to/mb8Gq0', '//i.goojara.to/mb_229_229434.jpg']\n",
      "['Marmalade (2024)', 'https://ww1.goojara.to/mB4lMe', '//i.goojara.to/mb_229_229429.jpg']\n",
      "[\"You Won't Be Alone (2022)\", 'https://ww1.goojara.to/mgEGqz', '//i.goojara.to/mb_229_229442.jpg']\n",
      "['Captain Miller (2024)', 'https://ww1.goojara.to/mxG2vz', '//i.goojara.to/mb_229_229426.jpg']\n",
      "['American Fiction (2024)', 'https://ww1.goojara.to/myPJa9', '//i.goojara.to/mb_229_229405.jpg']\n",
      "['Anyone But You (2024)', 'https://ww1.goojara.to/m2aqjG', '//i.goojara.to/mb_229_229407.jpg']\n",
      "['Mike Epps: Ready to Sell Out (2024)', 'https://ww1.goojara.to/m9Wv29', '//i.goojara.to/mb_229_229435.jpg']\n",
      "['Wanted Man (2024)', 'https://ww1.goojara.to/m9WvLN', '//i.goojara.to/mb_229_229379.jpg']\n",
      "['Bad Behind Bars: Jodi Arias (2023)', 'https://ww1.goojara.to/meQGqP', '//i.goojara.to/mb_229_229439.jpg']\n",
      "['Prey for the Bride (2024)', 'https://ww1.goojara.to/m86jr7', '//i.goojara.to/mb_229_229433.jpg']\n",
      "['Open Season 2 (2008)', 'https://ww1.goojara.to/mYpPzV', '//i.goojara.to/mb_002_2123.jpg']\n",
      "['The Book of Clarence (2024)', 'https://ww1.goojara.to/mQa6wB', '//i.goojara.to/mb_229_229417.jpg']\n",
      "['The Zone of Interest (2024)', 'https://ww1.goojara.to/mpQGqp', '//i.goojara.to/mb_229_229423.jpg']\n",
      "['My Bloody Galentine (2024)', 'https://ww1.goojara.to/m1exWl', '//i.goojara.to/mb_229_229431.jpg']\n",
      "['The Cypher (2020)', 'https://ww1.goojara.to/mwOrj7', '//i.goojara.to/mb_229_229440.jpg']\n",
      "['Open Season 3 (2010)', 'https://ww1.goojara.to/m3jPjB', '//i.goojara.to/mb_004_4303.jpg']\n",
      "[\"Miller's Girl (2024)\", 'https://ww1.goojara.to/m6M0v6', '//i.goojara.to/mb_229_229428.jpg']\n",
      "['All of Us Strangers (2024)', 'https://ww1.goojara.to/mzE5Om', '//i.goojara.to/mb_229_229387.jpg']\n",
      "['Wonka (2023)', 'https://ww1.goojara.to/m4WByM', '//i.goojara.to/mb_229_229380.jpg']\n",
      "['Code 8 (2019)', 'https://ww1.goojara.to/mmw8Q1', '//i.goojara.to/mb_224_224732.jpg']\n",
      "['Badland Hunters (2024)', 'https://ww1.goojara.to/mLRzJj', '//i.goojara.to/mb_229_229410.jpg']\n",
      "['Migration (2023)', 'https://ww1.goojara.to/meQGO0', '//i.goojara.to/mb_229_229383.jpg']\n",
      "['The 66th Annual Grammy Awards (2024)', 'https://ww1.goojara.to/mZDG0A', '//i.goojara.to/mb_229_229400.jpg']\n",
      "['The Bricklayer (2024)', 'https://ww1.goojara.to/mJRWAy', '//i.goojara.to/mb_229_229352.jpg']\n",
      "[\"The Tiger's Apprentice (2024)\", 'https://ww1.goojara.to/mOexa6', '//i.goojara.to/mb_229_229412.jpg']\n",
      "['Mooned (2023)', 'https://ww1.goojara.to/mqGZqg', '//i.goojara.to/mb_229_229427.jpg']\n",
      "['Trolls Band Together (2023)', 'https://ww1.goojara.to/m767AP', '//i.goojara.to/mb_229_229190.jpg']\n",
      "['Justice League: Crisis on Infinite Earths - Part One (2024)', 'https://ww1.goojara.to/mabG5m', '//i.goojara.to/mb_229_229355.jpg']\n",
      "['Night Swim (2024)', 'https://ww1.goojara.to/mgEGda', '//i.goojara.to/mb_229_229386.jpg']\n",
      "['Warchief (2024)', 'https://ww1.goojara.to/mllGZE', '//i.goojara.to/mb_229_229357.jpg']\n",
      "['This Is Me... Now (2024)', 'https://ww1.goojara.to/mWkGxj', '//i.goojara.to/mb_229_229421.jpg']\n",
      "['The Winter Witch (2024)', 'https://ww1.goojara.to/mAeOne', '//i.goojara.to/mb_229_229374.jpg']\n",
      "['I.S.S. (2024)', 'https://ww1.goojara.to/mrA0vM', '//i.goojara.to/mb_229_229406.jpg']\n",
      "['Cult Killer (2024)', 'https://ww1.goojara.to/m06N0w', '//i.goojara.to/mb_229_229401.jpg']\n",
      "['Lift (2024)', 'https://ww1.goojara.to/mPLqWp', '//i.goojara.to/mb_229_229364.jpg']\n",
      "['Lost Phoenix (2024)', 'https://ww1.goojara.to/mmwGPW', '//i.goojara.to/mb_229_229376.jpg']\n",
      "['The Painter (2024)', 'https://ww1.goojara.to/mb8G5O', '//i.goojara.to/mb_229_229378.jpg']\n",
      "['The Underdoggs (2024)', 'https://ww1.goojara.to/m06N01', '//i.goojara.to/mb_229_229389.jpg']\n",
      "['The Vampire Next Door (2024)', 'https://ww1.goojara.to/m86j5Q', '//i.goojara.to/mb_229_229377.jpg']\n",
      "['Che: Part Two (2008)', 'https://ww1.goojara.to/morame', '//i.goojara.to/mb_003_3150.jpg']\n",
      "['Oppenheimer (2023)', 'https://ww1.goojara.to/mDJDAj', '//i.goojara.to/mb_229_229159.jpg']\n",
      "['Bye Bye Birdie (1963)', 'https://ww1.goojara.to/m32wn9', '//i.goojara.to/mb_010_10051.jpg']\n",
      "['Orion and the Dark (2024)', 'https://ww1.goojara.to/mJRWrQ', '//i.goojara.to/mb_229_229408.jpg']\n",
      "['Hurricane Season (2009)', 'https://ww1.goojara.to/mKyl83', '//i.goojara.to/mb_000_905.jpg']\n",
      "['Good Burger 2 (2023)', 'https://ww1.goojara.to/myPJMm', '//i.goojara.to/mb_229_229205.jpg']\n",
      "['The Marvels (2023)', 'https://ww1.goojara.to/mjPG5a', '//i.goojara.to/mb_229_229247.jpg']\n",
      "['The Hunger Games: The Ballad of Songbirds & Snakes (2023)', 'https://ww1.goojara.to/m767Om', '//i.goojara.to/mb_229_229246.jpg']\n",
      "[\"Pirates II: Stagnetti's Revenge (2008)\", 'https://ww1.goojara.to/monk4v', '//i.goojara.to/mb_005_5162.jpg']\n",
      "['The Boarding School Murders (2024)', 'https://ww1.goojara.to/mjPGQe', '//i.goojara.to/mb_229_229403.jpg']\n",
      "['Arctic Hollow (2024)', 'https://ww1.goojara.to/mB4lXz', '//i.goojara.to/mb_229_229373.jpg']\n",
      "['Napoleon (2023)', 'https://ww1.goojara.to/m5QZyM', '//i.goojara.to/mb_229_229353.jpg']\n",
      "['The Night They Came Home (2024)', 'https://ww1.goojara.to/mWkGWD', '//i.goojara.to/mb_229_229365.jpg']\n",
      "['Mean Girls (2004)', 'https://ww1.goojara.to/m32q0o', '//i.goojara.to/mb_001_1351.jpg']\n",
      "['Roadkill (2024)', 'https://ww1.goojara.to/mOexpk', '//i.goojara.to/mb_229_229356.jpg']\n",
      "['Wish (2023)', 'https://ww1.goojara.to/mRzBdZ', '//i.goojara.to/mb_229_229382.jpg']\n",
      "['The Taking of Pelham 1 2 3 (2009)', 'https://ww1.goojara.to/moG6jY', '//i.goojara.to/mb_000_241.jpg']\n",
      "['Moana (2016)', 'https://ww1.goojara.to/mkDBkl', '//i.goojara.to/mb_218_218668.jpg']\n",
      "['The Equalizer 3 (2023)', 'https://ww1.goojara.to/mpQGrk', '//i.goojara.to/mb_229_229067.jpg']\n"
     ]
    }
   ],
   "source": [
    "popular_movie_page = \"https://www.goojara.to/watch-movies-popular\"\n",
    "req = requests.get(popular_movie_page)\n",
    "popular_movies = []\n",
    "\n",
    "soup = BeautifulSoup(req.text, \"html.parser\")\n",
    "\n",
    "movies = soup.findAll(\"div\",class_=\"dflex\")\n",
    "\n",
    "for movie in movies:\n",
    "    details = movie.findAll(\"a\")\n",
    "    for detail in details:\n",
    "        movie = detail.find('img')\n",
    "        movie_name = detail['title']\n",
    "        movie_link = detail['href']\n",
    "        movie_image = movie['data-src']\n",
    "        popular_movies.append([movie_name, movie_link, movie_image])\n",
    "   \n",
    "for popular_movie in popular_movies:     \n",
    "    print(popular_movie)"
   ]
  }
 ],
 "metadata": {
  "kernelspec": {
   "display_name": "Python 3",
   "language": "python",
   "name": "python3"
  },
  "language_info": {
   "codemirror_mode": {
    "name": "ipython",
    "version": 3
   },
   "file_extension": ".py",
   "mimetype": "text/x-python",
   "name": "python",
   "nbconvert_exporter": "python",
   "pygments_lexer": "ipython3",
   "version": "3.12.2"
  }
 },
 "nbformat": 4,
 "nbformat_minor": 5
}
